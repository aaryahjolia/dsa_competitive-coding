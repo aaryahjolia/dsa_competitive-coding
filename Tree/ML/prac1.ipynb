{
 "cells": [
  {
   "cell_type": "markdown",
   "metadata": {},
   "source": [
    "Batch GD"
   ]
  },
  {
   "cell_type": "code",
   "execution_count": 1,
   "metadata": {},
   "outputs": [],
   "source": [
    "import numpy as np \n",
    "from sklearn import datasets,metrics\n",
    "from sklearn.model_selection import train_test_split\n",
    "from sklearn.preprocessing import StandardScaler\n",
    "\n",
    "from sklearn.linear_model import SGDRegressor\n",
    "from sklearn.linear_model import LinearRegression\n",
    "from sklearn.model_selection import GridSearchCV\n",
    "from numpy.linalg import inv,pinv,LinAlgError"
   ]
  },
  {
   "cell_type": "code",
   "execution_count": 2,
   "metadata": {},
   "outputs": [],
   "source": [
    "(x_temp,y)=datasets.fetch_california_housing(return_X_y=True)\n",
    "\n",
    "x=np.ones((x_temp.shape[0],x_temp.shape[1]+1))\n",
    "\n",
    "x[:,1:]=x_temp\n",
    "x_train,x_test,y_train,y_test=train_test_split(x,y,test_size=0.2,random_state=42)\n",
    "\n",
    "ss=StandardScaler()\n",
    "ss.fit(x_train[:,1:])\n",
    "\n",
    "x_train[:,1:]=ss.transform(x_train[:,1:])\n",
    "x_test[:,1:]=ss.transform(x_test[:,1:])\n",
    "\n",
    "n_iteration=1000\n",
    "n=x_train.shape[1] \n",
    "m=x_train.shape[0]  \n",
    "\n",
    "theta=np.zeros(n)  \n",
    "update=np.zeros(n)\n",
    "\n",
    "learning_rate=0.01"
   ]
  },
  {
   "cell_type": "code",
   "execution_count": 3,
   "metadata": {},
   "outputs": [
    {
     "name": "stdout",
     "output_type": "stream",
     "text": [
      "(4128,)\n"
     ]
    }
   ],
   "source": [
    "print(y_test.shape)"
   ]
  },
  {
   "cell_type": "code",
   "execution_count": 4,
   "metadata": {},
   "outputs": [],
   "source": [
    "for i in range(n_iteration):\n",
    "    prediction = np.dot(x_train,theta)\n",
    "    error=prediction - y_train\n",
    "    for j in range(n):\n",
    "        update[j] = learning_rate* (1/m) * (np.sum(error*x_train.T[j]))\n",
    "    theta = theta - update\n",
    "             "
   ]
  },
  {
   "cell_type": "code",
   "execution_count": 5,
   "metadata": {},
   "outputs": [
    {
     "name": "stdout",
     "output_type": "stream",
     "text": [
      "MAE :  0.5476758462432642\n",
      "MSE :  0.5671852986082033\n"
     ]
    }
   ],
   "source": [
    "pred = np.dot(x_test,theta)\n",
    "\n",
    "print(\"MAE : \",metrics.mean_absolute_error(y_test,pred))\n",
    "print(\"MSE : \",metrics.mean_squared_error(y_test,pred))"
   ]
  },
  {
   "cell_type": "markdown",
   "metadata": {},
   "source": [
    "stochastic GD"
   ]
  },
  {
   "cell_type": "code",
   "execution_count": null,
   "metadata": {},
   "outputs": [],
   "source": [
    "sgd = SGDRegressor(eta0=0.01,max_iter=1000)\n",
    "sgd.fit(x_train,y_train)\n",
    "pred=sgd.predict(x_test)\n",
    "\n",
    "print(\"MAE : \",metrics.mean_absolute_error(y_test,pred))\n",
    "print(\"MSE : \",metrics.mean_squared_error(y_test,pred))"
   ]
  },
  {
   "cell_type": "markdown",
   "metadata": {},
   "source": [
    "Normal equation"
   ]
  },
  {
   "cell_type": "code",
   "execution_count": 6,
   "metadata": {},
   "outputs": [
    {
     "name": "stdout",
     "output_type": "stream",
     "text": [
      "MSE = 0.5558915986952448\n",
      "MAE = 0.5332001304956526\n"
     ]
    }
   ],
   "source": [
    "xtx=np.dot(x_train.T,x_train)\n",
    "\n",
    "try:\n",
    "     xtxi=inv(xtx)\n",
    "     \n",
    "except LinAlgError:\n",
    "    xtxi=pinv(xtx)\n",
    "    \n",
    "xty=np.dot(x_train.T,y_train)\n",
    "theta=np.dot(xtxi,xty)\n",
    "    \n",
    "pred=np.dot(x_test,theta)\n",
    "\n",
    "print(\"MSE =\",metrics.mean_squared_error(y_test,pred))\n",
    "print(\"MAE =\",metrics.mean_absolute_error(y_test,pred))\n",
    "    "
   ]
  },
  {
   "cell_type": "markdown",
   "metadata": {},
   "source": [
    "Normal sk_learn"
   ]
  },
  {
   "cell_type": "code",
   "execution_count": 7,
   "metadata": {},
   "outputs": [
    {
     "name": "stdout",
     "output_type": "stream",
     "text": [
      "MSE = 0.5558915986952435\n",
      "MAE = 0.5332001304956565\n"
     ]
    }
   ],
   "source": [
    "lr=LinearRegression()\n",
    "lr.fit(x_train, y_train)\n",
    "pred=lr.predict(x_test)\n",
    "print(\"MSE =\",metrics.mean_squared_error(y_test,pred))\n",
    "print(\"MAE =\",metrics.mean_absolute_error(y_test,pred))"
   ]
  },
  {
   "cell_type": "markdown",
   "metadata": {},
   "source": [
    "Grid Search"
   ]
  },
  {
   "cell_type": "code",
   "execution_count": 10,
   "metadata": {},
   "outputs": [
    {
     "name": "stdout",
     "output_type": "stream",
     "text": [
      "MSE = 0.5561970677038408\n",
      "MAE = 0.5361837169722697\n"
     ]
    }
   ],
   "source": [
    "sgd=SGDRegressor()\n",
    "\n",
    "grid={\"eta0\":[0.001,0.01,0.1],\"max_iter\":[10000,20000,30000,40000]}\n",
    "\n",
    "gs=GridSearchCV(sgd,param_grid=grid,cv=5)\n",
    "gs.fit(x_train,y_train)\n",
    "pred = gs.predict(x_test)\n",
    "\n",
    "print(\"MSE =\",metrics.mean_squared_error(y_test,pred))\n",
    "print(\"MAE =\",metrics.mean_absolute_error(y_test,pred))"
   ]
  }
 ],
 "metadata": {
  "kernelspec": {
   "display_name": "Python 3.9.7 ('base')",
   "language": "python",
   "name": "python3"
  },
  "language_info": {
   "codemirror_mode": {
    "name": "ipython",
    "version": 3
   },
   "file_extension": ".py",
   "mimetype": "text/x-python",
   "name": "python",
   "nbconvert_exporter": "python",
   "pygments_lexer": "ipython3",
   "version": "3.9.7"
  },
  "orig_nbformat": 4,
  "vscode": {
   "interpreter": {
    "hash": "4019e5a2ca3d84f6d49582a7bad876124cd0abcedf4fbd3e4c994aec71bce483"
   }
  }
 },
 "nbformat": 4,
 "nbformat_minor": 2
}
